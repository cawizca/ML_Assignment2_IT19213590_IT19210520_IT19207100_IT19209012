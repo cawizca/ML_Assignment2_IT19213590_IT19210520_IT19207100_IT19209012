{
 "cells": [
  {
   "cell_type": "code",
   "execution_count": 1,
   "id": "436887ba",
   "metadata": {},
   "outputs": [
    {
     "name": "stdout",
     "output_type": "stream",
     "text": [
      "['A-']\n"
     ]
    }
   ],
   "source": [
    "import pandas as pd\n",
    "import numpy as np\n",
    "import os\n",
    "import pickle\n",
    "import warnings\n",
    "\n",
    "def load_model(modelfile):\n",
    "\tloaded_model = pickle.load(open(modelfile, 'rb'))\n",
    "\treturn loaded_model\n",
    "\n",
    "school = 0 \n",
    "sex =0\n",
    "age =15\n",
    "address=1\n",
    "famsize = 0\n",
    "Pstatus =1\n",
    "Medu =4\n",
    "Fedu = 2\n",
    "Mjob =1\n",
    "Fjob =3\n",
    "reason=5\n",
    "guardian=0\n",
    "traveltime = 1\n",
    "studytime =5\n",
    "failures  =0\n",
    "schoolsup =1\n",
    "famsup=1\n",
    "paid=1\n",
    "activities =1\n",
    "nursery=1\n",
    "higher =1\n",
    "internet=1\n",
    "romantic=0\n",
    "famrel=0\n",
    "freetime=2\n",
    "goout =2\n",
    "Dalc =2\n",
    "Walc =1\n",
    "health =0\n",
    "absences =1\n",
    "G1 =15\n",
    "G2 =14\n",
    "G3 =16\n",
    "GradeAvarage = (G1+G2+G3)\n",
    "\n",
    "feature_list = [school,sex,age,address,famsize,Pstatus,Medu,Fedu,Mjob,Fjob,reason,guardian,traveltime,studytime,failures,schoolsup,famsup,paid,activities,nursery,higher,internet,romantic,famrel,freetime,goout,Dalc,Walc,health,absences,G1,G2,G3,GradeAvarage]\n",
    "single_pred = np.array(feature_list).reshape(1,-1)\n",
    "        \n",
    "       \n",
    "\n",
    "loaded_model = load_model('student_perfomence.pkl')\n",
    "prediction = loaded_model.predict(single_pred)\n",
    "\n",
    "print(prediction)"
   ]
  }
 ],
 "metadata": {
  "kernelspec": {
   "display_name": "Python 3 (ipykernel)",
   "language": "python",
   "name": "python3"
  },
  "language_info": {
   "codemirror_mode": {
    "name": "ipython",
    "version": 3
   },
   "file_extension": ".py",
   "mimetype": "text/x-python",
   "name": "python",
   "nbconvert_exporter": "python",
   "pygments_lexer": "ipython3",
   "version": "3.9.7"
  }
 },
 "nbformat": 4,
 "nbformat_minor": 5
}
